{
 "cells": [
  {
   "cell_type": "code",
   "execution_count": 18,
   "metadata": {},
   "outputs": [],
   "source": [
    "import pandas as pd\n",
    "import numpy as np\n",
    "import os\n",
    "import json\n",
    "import shutil\n",
    "    "
   ]
  },
  {
   "cell_type": "code",
   "execution_count": 19,
   "metadata": {},
   "outputs": [
    {
     "data": {
      "text/plain": [
       "['CLE - HOU.v8-basic-15.coco/',\n",
       " 'CLT - CHI.v2-basic-15.coco/',\n",
       " 'LA-LDN.v3-basic-15.coco/',\n",
       " 'MI - PHO.v5-basic-16.coco/']"
      ]
     },
     "execution_count": 19,
     "metadata": {},
     "output_type": "execute_result"
    }
   ],
   "source": [
    "folder_names = ['CLE - HOU.v8-basic-15.coco/', 'CLT - CHI.v2-basic-15.coco/', 'LA-LDN.v3-basic-15.coco/', 'MI - PHO.v5-basic-16.coco/']\n",
    "folder_names"
   ]
  },
  {
   "cell_type": "code",
   "execution_count": 20,
   "metadata": {},
   "outputs": [],
   "source": [
    "def eliminate_redundant_categories(json_x):\n",
    "    json_x[\"categories\"] = list(filter(lambda x: x[\"id\"] < 16, json_x[\"categories\"]))\n",
    "    return json_x"
   ]
  },
  {
   "cell_type": "code",
   "execution_count": 21,
   "metadata": {},
   "outputs": [],
   "source": [
    "def concat_json(json1, json2):\n",
    "    final_json = dict()\n",
    "    json1 = eliminate_redundant_categories(json1)\n",
    "    json2 = eliminate_redundant_categories(json2)\n",
    "    \n",
    "    final_json[\"info\"] = json1[\"info\"]\n",
    "    final_json[\"licenses\"] = json1[\"licenses\"]\n",
    "    final_json[\"categories\"] = json1[\"categories\"]\n",
    "    \n",
    "    max_images_id = max(list(map(lambda x: x[\"id\"], json1[\"images\"])))\n",
    "    \n",
    "    length_id_2 = len(json2[\"images\"])\n",
    "    \n",
    "    store = dict()\n",
    "    for i, id_ in enumerate(range(max_images_id, max_images_id + length_id_2)):\n",
    "        store[json2[\"images\"][i][\"id\"]] = id_\n",
    "        json2[\"images\"][i][\"id\"] = id_\n",
    "        \n",
    "    final_json[\"images\"] = json1[\"images\"] + json2[\"images\"]\n",
    "    \n",
    "    \n",
    "    max_annotation_id = max(list(map(lambda x: x[\"id\"], json1[\"annotations\"])))\n",
    "    \n",
    "    length_id_2_ann = len(json2[\"annotations\"])\n",
    "    \n",
    "    \n",
    "    for i, id_ in enumerate(range(max_annotation_id, max_annotation_id + length_id_2_ann)):\n",
    "            json2[\"annotations\"][i][\"id\"] = id_\n",
    "            json2[\"annotations\"][i][\"image_id\"] = store[json2[\"annotations\"][i][\"image_id\"]]\n",
    "\n",
    "    final_json[\"annotations\"] = json1[\"annotations\"] + json2[\"annotations\"]\n",
    "    \n",
    "    return final_json\n",
    "    \n",
    "    \n",
    "    \n",
    "        \n",
    "    \n",
    "    "
   ]
  },
  {
   "cell_type": "code",
   "execution_count": 22,
   "metadata": {},
   "outputs": [],
   "source": [
    "def read_json(path):\n",
    "    with open(path, 'r') as j:\n",
    "         contents = json.loads(j.read())\n",
    "    return contents"
   ]
  },
  {
   "cell_type": "code",
   "execution_count": 23,
   "metadata": {},
   "outputs": [],
   "source": [
    "def write_json(file, path):\n",
    "    # Serializing json \n",
    "    json_object = json.dumps(file, indent = 4)\n",
    "\n",
    "    # Writing to sample.json\n",
    "    with open(path, \"w\") as outfile:\n",
    "        outfile.write(json_object)"
   ]
  },
  {
   "cell_type": "code",
   "execution_count": 24,
   "metadata": {},
   "outputs": [],
   "source": [
    "def move_jps(source_dir, target_dir):    \n",
    "    file_names = list(filter(lambda x: \".jpg\" in x, os.listdir(source_dir)))\n",
    "    \n",
    "    for file_name in file_names:\n",
    "        shutil.move(os.path.join(source_dir, file_name), target_dir)"
   ]
  },
  {
   "cell_type": "code",
   "execution_count": 25,
   "metadata": {},
   "outputs": [],
   "source": [
    "#for folder in folder_names:\n",
    "#    \n",
    "#    os.mkdir(folder + 'final_train')\n",
    "#    \n",
    "#    final_json = concat_json(read_json(folder + 'train/_annotations.coco.json'), read_json(folder + 'valid/_annotations.coco.json'))\n",
    "#    \n",
    "#    write_json(final_json, folder + 'final_train/_annotations.coco.json')\n",
    "#    \n",
    "#    move_jps(folder + 'train/', folder + 'final_train')\n",
    "#    move_jps(folder + 'valid/', folder + 'final_train')\n",
    "    "
   ]
  },
  {
   "cell_type": "code",
   "execution_count": 28,
   "metadata": {},
   "outputs": [
    {
     "data": {
      "text/plain": [
       "['CLE - HOU.v8-basic-15.coco/',\n",
       " 'CLT - CHI.v2-basic-15.coco/',\n",
       " 'LA-LDN.v3-basic-15.coco/',\n",
       " 'MI - PHO.v5-basic-16.coco/']"
      ]
     },
     "execution_count": 28,
     "metadata": {},
     "output_type": "execute_result"
    }
   ],
   "source": [
    "folder_names"
   ]
  },
  {
   "cell_type": "code",
   "execution_count": 33,
   "metadata": {},
   "outputs": [],
   "source": [
    "final_json = concat_json(read_json(folder_names[3] + 'final_train/' + '_annotations.coco.json'), read_json('folder2/' + 'train/' + '_annotations.coco.json'))\n",
    "\n",
    "write_json(final_json, 'folder3/train/_annotations.coco.json')\n",
    "\n",
    "move_jps(folder_names[3] + 'final_train/', 'folder3/train/')\n",
    "move_jps('folder2/' + 'train/', 'folder3/train/')\n",
    "\n",
    "    "
   ]
  },
  {
   "cell_type": "code",
   "execution_count": 17,
   "metadata": {},
   "outputs": [],
   "source": [
    "os.mkdir('folder1')"
   ]
  },
  {
   "cell_type": "code",
   "execution_count": null,
   "metadata": {},
   "outputs": [],
   "source": []
  }
 ],
 "metadata": {
  "kernelspec": {
   "display_name": "Python 3",
   "language": "python",
   "name": "python3"
  },
  "language_info": {
   "codemirror_mode": {
    "name": "ipython",
    "version": 3
   },
   "file_extension": ".py",
   "mimetype": "text/x-python",
   "name": "python",
   "nbconvert_exporter": "python",
   "pygments_lexer": "ipython3",
   "version": "3.6.1"
  }
 },
 "nbformat": 4,
 "nbformat_minor": 2
}
