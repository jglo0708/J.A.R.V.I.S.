{
 "cells": [
  {
   "cell_type": "code",
   "execution_count": 1,
   "id": "39f89db1",
   "metadata": {},
   "outputs": [],
   "source": [
    "import pandas as pd\n",
    "import GT_to_csv\n",
    "import pred_to_CSV\n",
    "from pred_to_CSV import LABELS2NUM\n",
    "from utils import *"
   ]
  },
  {
   "cell_type": "code",
   "execution_count": 2,
   "id": "87123add",
   "metadata": {},
   "outputs": [],
   "source": [
    "# !python pred_to_CSV.py \"backup_results/predictions/result.txt\"\n",
    "# !python GT_to_csv.py \"backup_results/gt_bboxes/*.txt\""
   ]
  },
  {
   "cell_type": "code",
   "execution_count": 3,
   "id": "9cad33ce",
   "metadata": {},
   "outputs": [],
   "source": [
    "pred = pd.read_csv(\"backup_results/transformed/pred_bb.csv\").drop(columns=\"Unnamed: 0\")\n",
    "gt = pd.read_csv(\"backup_results/transformed/GT_bb.csv\").drop(columns=\"Unnamed: 0\")"
   ]
  },
  {
   "cell_type": "code",
   "execution_count": 4,
   "id": "c5214195",
   "metadata": {},
   "outputs": [],
   "source": [
    "def calculate_iou(pred, gt):\n",
    "    results = []\n",
    "    for index, row in gt.iterrows():\n",
    "        gt_bb = BoundingBox(row[\"filename\"],row[\"label\"], row[\"x\"],row[\"y\"],row[\"w\"], row[\"h\"],)\n",
    "        for_label = []\n",
    "        for i, r in pred[(pred[\"label\"]==row[\"label\"]) & (pred[\"filename\"]==row[\"filename\"])].iterrows():\n",
    "            pred_bb = BoundingBox(r[\"filename\"],r[\"label\"], r[\"x\"],r[\"y\"],r[\"w\"], r[\"h\"],)\n",
    "            for_label.append(box_iou(gt_bb, pred_bb))\n",
    "        result = [row[\"filename\"], row[\"label\"], max(for_label, default = 0)]\n",
    "        results.append(result)\n",
    "    return results"
   ]
  },
  {
   "cell_type": "code",
   "execution_count": 5,
   "id": "08070b97",
   "metadata": {},
   "outputs": [],
   "source": [
    "results = calculate_iou(pred, gt)"
   ]
  },
  {
   "cell_type": "code",
   "execution_count": 6,
   "id": "9f8a26ae",
   "metadata": {},
   "outputs": [],
   "source": [
    "df = pd.DataFrame(results, columns = [\"filename\", \"label\", \"IOU\"])\n",
    "scores = df.groupby(\"filename\").max().groupby(\"label\").mean().reset_index()\n",
    "scores[\"label\"] = scores[\"label\"].apply(lambda x: get_key(x, LABELS2NUM))"
   ]
  },
  {
   "cell_type": "code",
   "execution_count": 7,
   "id": "32f48045",
   "metadata": {
    "scrolled": true
   },
   "outputs": [
    {
     "data": {
      "text/html": [
       "<div>\n",
       "<style scoped>\n",
       "    .dataframe tbody tr th:only-of-type {\n",
       "        vertical-align: middle;\n",
       "    }\n",
       "\n",
       "    .dataframe tbody tr th {\n",
       "        vertical-align: top;\n",
       "    }\n",
       "\n",
       "    .dataframe thead th {\n",
       "        text-align: right;\n",
       "    }\n",
       "</style>\n",
       "<table border=\"1\" class=\"dataframe\">\n",
       "  <thead>\n",
       "    <tr style=\"text-align: right;\">\n",
       "      <th></th>\n",
       "      <th>label</th>\n",
       "      <th>IOU</th>\n",
       "    </tr>\n",
       "  </thead>\n",
       "  <tbody>\n",
       "    <tr>\n",
       "      <th>0</th>\n",
       "      <td>Adidas</td>\n",
       "      <td>0.802068</td>\n",
       "    </tr>\n",
       "    <tr>\n",
       "      <th>1</th>\n",
       "      <td>Apple Inc-</td>\n",
       "      <td>0.701490</td>\n",
       "    </tr>\n",
       "    <tr>\n",
       "      <th>2</th>\n",
       "      <td>Coca-Cola</td>\n",
       "      <td>0.783254</td>\n",
       "    </tr>\n",
       "    <tr>\n",
       "      <th>3</th>\n",
       "      <td>Emirates</td>\n",
       "      <td>0.728129</td>\n",
       "    </tr>\n",
       "    <tr>\n",
       "      <th>4</th>\n",
       "      <td>Hard Rock Cafe</td>\n",
       "      <td>0.727069</td>\n",
       "    </tr>\n",
       "    <tr>\n",
       "      <th>5</th>\n",
       "      <td>Mercedes-Benz</td>\n",
       "      <td>0.757376</td>\n",
       "    </tr>\n",
       "    <tr>\n",
       "      <th>6</th>\n",
       "      <td>NFL</td>\n",
       "      <td>0.772498</td>\n",
       "    </tr>\n",
       "    <tr>\n",
       "      <th>7</th>\n",
       "      <td>Nike</td>\n",
       "      <td>0.661942</td>\n",
       "    </tr>\n",
       "    <tr>\n",
       "      <th>8</th>\n",
       "      <td>Pepsi</td>\n",
       "      <td>0.816151</td>\n",
       "    </tr>\n",
       "    <tr>\n",
       "      <th>9</th>\n",
       "      <td>Puma</td>\n",
       "      <td>0.737169</td>\n",
       "    </tr>\n",
       "    <tr>\n",
       "      <th>10</th>\n",
       "      <td>Starbucks</td>\n",
       "      <td>0.829903</td>\n",
       "    </tr>\n",
       "    <tr>\n",
       "      <th>11</th>\n",
       "      <td>The North Face</td>\n",
       "      <td>0.766542</td>\n",
       "    </tr>\n",
       "    <tr>\n",
       "      <th>12</th>\n",
       "      <td>Toyota</td>\n",
       "      <td>0.784606</td>\n",
       "    </tr>\n",
       "    <tr>\n",
       "      <th>13</th>\n",
       "      <td>Under Armour</td>\n",
       "      <td>0.668946</td>\n",
       "    </tr>\n",
       "  </tbody>\n",
       "</table>\n",
       "</div>"
      ],
      "text/plain": [
       "             label       IOU\n",
       "0           Adidas  0.802068\n",
       "1       Apple Inc-  0.701490\n",
       "2        Coca-Cola  0.783254\n",
       "3         Emirates  0.728129\n",
       "4   Hard Rock Cafe  0.727069\n",
       "5    Mercedes-Benz  0.757376\n",
       "6              NFL  0.772498\n",
       "7             Nike  0.661942\n",
       "8            Pepsi  0.816151\n",
       "9             Puma  0.737169\n",
       "10       Starbucks  0.829903\n",
       "11  The North Face  0.766542\n",
       "12          Toyota  0.784606\n",
       "13    Under Armour  0.668946"
      ]
     },
     "execution_count": 7,
     "metadata": {},
     "output_type": "execute_result"
    }
   ],
   "source": [
    "scores"
   ]
  }
 ],
 "metadata": {
  "kernelspec": {
   "display_name": "venv",
   "language": "python",
   "name": "venv"
  },
  "language_info": {
   "codemirror_mode": {
    "name": "ipython",
    "version": 3
   },
   "file_extension": ".py",
   "mimetype": "text/x-python",
   "name": "python",
   "nbconvert_exporter": "python",
   "pygments_lexer": "ipython3",
   "version": "3.8.10"
  }
 },
 "nbformat": 4,
 "nbformat_minor": 5
}
