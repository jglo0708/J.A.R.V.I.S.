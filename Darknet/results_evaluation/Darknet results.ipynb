{
 "cells": [
  {
   "cell_type": "code",
   "execution_count": 1,
   "id": "39f89db1",
   "metadata": {},
   "outputs": [],
   "source": [
    "import pandas as pd\n",
    "import GT_to_csv\n",
    "import pred_to_CSV\n",
    "from pred_to_CSV import LABELS2NUM\n",
    "from utils import *\n",
    "\n",
    "import numpy as np\n",
    "from sklearn.linear_model import LinearRegression"
   ]
  },
  {
   "cell_type": "code",
   "execution_count": 2,
   "id": "9cad33ce",
   "metadata": {},
   "outputs": [],
   "source": [
    "pred = pd.read_csv(\"pred_bb.csv\").drop(columns=\"Unnamed: 0\")\n",
    "gt = pd.read_csv(\"GT_bb.csv\").drop(columns=\"Unnamed: 0\")"
   ]
  },
  {
   "cell_type": "code",
   "execution_count": 3,
   "id": "58802800",
   "metadata": {},
   "outputs": [],
   "source": [
    "results = []\n",
    "for index, row in pred.iterrows():\n",
    "    pred_bb = BoundingBox(row[\"filename\"],row[\"label\"], row[\"x\"],row[\"y\"],row[\"w\"], row[\"h\"],)\n",
    "    for_label = []\n",
    "    for i, r in gt[(gt[\"label\"]==row[\"label\"]) & (gt[\"filename\"]==row[\"filename\"])].iterrows():\n",
    "        gt_bb = BoundingBox(r[\"filename\"],r[\"label\"], r[\"x\"],r[\"y\"],r[\"w\"], r[\"h\"],)\n",
    "        for_label.append(box_iou(pred_bb, gt_bb))\n",
    "    result = [row[\"filename\"], row[\"label\"],row[\"confidence\"], max(for_label, default = 0)]\n",
    "    results.append(result)\n",
    "    "
   ]
  },
  {
   "cell_type": "code",
   "execution_count": 4,
   "id": "9f8a26ae",
   "metadata": {},
   "outputs": [],
   "source": [
    "df = pd.DataFrame(results, columns = [\"filename\", \"label\",\"confidence\", \"IOU\"])"
   ]
  },
  {
   "cell_type": "code",
   "execution_count": 5,
   "id": "61a14059",
   "metadata": {},
   "outputs": [],
   "source": [
    "scores = df.groupby(\"filename\").max().groupby(\"label\").mean().reset_index()"
   ]
  },
  {
   "cell_type": "code",
   "execution_count": 6,
   "id": "e8826092",
   "metadata": {},
   "outputs": [],
   "source": [
    "scores[\"label\"] = scores[\"label\"].apply(lambda x: get_key(x, LABELS2NUM))"
   ]
  },
  {
   "cell_type": "code",
   "execution_count": 7,
   "id": "32f48045",
   "metadata": {
    "scrolled": true
   },
   "outputs": [
    {
     "data": {
      "text/html": [
       "<div>\n",
       "<style scoped>\n",
       "    .dataframe tbody tr th:only-of-type {\n",
       "        vertical-align: middle;\n",
       "    }\n",
       "\n",
       "    .dataframe tbody tr th {\n",
       "        vertical-align: top;\n",
       "    }\n",
       "\n",
       "    .dataframe thead th {\n",
       "        text-align: right;\n",
       "    }\n",
       "</style>\n",
       "<table border=\"1\" class=\"dataframe\">\n",
       "  <thead>\n",
       "    <tr style=\"text-align: right;\">\n",
       "      <th></th>\n",
       "      <th>label</th>\n",
       "      <th>confidence</th>\n",
       "      <th>IOU</th>\n",
       "    </tr>\n",
       "  </thead>\n",
       "  <tbody>\n",
       "    <tr>\n",
       "      <th>0</th>\n",
       "      <td>Adidas</td>\n",
       "      <td>96.615658</td>\n",
       "      <td>0.813900</td>\n",
       "    </tr>\n",
       "    <tr>\n",
       "      <th>1</th>\n",
       "      <td>Apple Inc-</td>\n",
       "      <td>91.139344</td>\n",
       "      <td>0.746895</td>\n",
       "    </tr>\n",
       "    <tr>\n",
       "      <th>2</th>\n",
       "      <td>Coca-Cola</td>\n",
       "      <td>97.626866</td>\n",
       "      <td>0.820520</td>\n",
       "    </tr>\n",
       "    <tr>\n",
       "      <th>3</th>\n",
       "      <td>Emirates</td>\n",
       "      <td>93.205128</td>\n",
       "      <td>0.747952</td>\n",
       "    </tr>\n",
       "    <tr>\n",
       "      <th>4</th>\n",
       "      <td>Hard Rock Cafe</td>\n",
       "      <td>94.469388</td>\n",
       "      <td>0.785356</td>\n",
       "    </tr>\n",
       "    <tr>\n",
       "      <th>5</th>\n",
       "      <td>Mercedes-Benz</td>\n",
       "      <td>91.540000</td>\n",
       "      <td>0.792008</td>\n",
       "    </tr>\n",
       "    <tr>\n",
       "      <th>6</th>\n",
       "      <td>NFL</td>\n",
       "      <td>92.965116</td>\n",
       "      <td>0.796275</td>\n",
       "    </tr>\n",
       "    <tr>\n",
       "      <th>7</th>\n",
       "      <td>Nike</td>\n",
       "      <td>93.030864</td>\n",
       "      <td>0.705703</td>\n",
       "    </tr>\n",
       "    <tr>\n",
       "      <th>8</th>\n",
       "      <td>Pepsi</td>\n",
       "      <td>95.804196</td>\n",
       "      <td>0.809263</td>\n",
       "    </tr>\n",
       "    <tr>\n",
       "      <th>9</th>\n",
       "      <td>Puma</td>\n",
       "      <td>93.282759</td>\n",
       "      <td>0.764076</td>\n",
       "    </tr>\n",
       "    <tr>\n",
       "      <th>10</th>\n",
       "      <td>Starbucks</td>\n",
       "      <td>96.219595</td>\n",
       "      <td>0.837086</td>\n",
       "    </tr>\n",
       "    <tr>\n",
       "      <th>11</th>\n",
       "      <td>The North Face</td>\n",
       "      <td>93.516484</td>\n",
       "      <td>0.818053</td>\n",
       "    </tr>\n",
       "    <tr>\n",
       "      <th>12</th>\n",
       "      <td>Toyota</td>\n",
       "      <td>92.959546</td>\n",
       "      <td>0.805005</td>\n",
       "    </tr>\n",
       "    <tr>\n",
       "      <th>13</th>\n",
       "      <td>Under Armour</td>\n",
       "      <td>84.876190</td>\n",
       "      <td>0.686141</td>\n",
       "    </tr>\n",
       "  </tbody>\n",
       "</table>\n",
       "</div>"
      ],
      "text/plain": [
       "             label  confidence       IOU\n",
       "0           Adidas   96.615658  0.813900\n",
       "1       Apple Inc-   91.139344  0.746895\n",
       "2        Coca-Cola   97.626866  0.820520\n",
       "3         Emirates   93.205128  0.747952\n",
       "4   Hard Rock Cafe   94.469388  0.785356\n",
       "5    Mercedes-Benz   91.540000  0.792008\n",
       "6              NFL   92.965116  0.796275\n",
       "7             Nike   93.030864  0.705703\n",
       "8            Pepsi   95.804196  0.809263\n",
       "9             Puma   93.282759  0.764076\n",
       "10       Starbucks   96.219595  0.837086\n",
       "11  The North Face   93.516484  0.818053\n",
       "12          Toyota   92.959546  0.805005\n",
       "13    Under Armour   84.876190  0.686141"
      ]
     },
     "execution_count": 7,
     "metadata": {},
     "output_type": "execute_result"
    }
   ],
   "source": [
    "scores"
   ]
  },
  {
   "cell_type": "code",
   "execution_count": 13,
   "id": "538b4e9f",
   "metadata": {},
   "outputs": [
    {
     "data": {
      "text/plain": [
       "array([[1., 0., 0., ..., 0., 0., 0.],\n",
       "       [0., 0., 1., ..., 0., 0., 0.],\n",
       "       [0., 0., 1., ..., 0., 0., 0.],\n",
       "       ...,\n",
       "       [0., 0., 0., ..., 0., 1., 0.],\n",
       "       [0., 0., 0., ..., 0., 0., 0.],\n",
       "       [1., 0., 0., ..., 0., 0., 0.]])"
      ]
     },
     "execution_count": 13,
     "metadata": {},
     "output_type": "execute_result"
    }
   ],
   "source": [
    "from sklearn.preprocessing import OneHotEncoder\n",
    "\n",
    "oe_style = OneHotEncoder()\n",
    "oe_results = oe_style.fit_transform(df[[\"label\"]])\n",
    "oe_results.toarray()"
   ]
  },
  {
   "cell_type": "code",
   "execution_count": 8,
   "id": "11c1cd62",
   "metadata": {},
   "outputs": [],
   "source": [
    "X = df[['label', 'confidence']]\n",
    "X = pd.get_dummies(data=X, drop_first=True)\n",
    "Y = df[\"IOU\"]"
   ]
  },
  {
   "cell_type": "code",
   "execution_count": 9,
   "id": "240d6647",
   "metadata": {},
   "outputs": [],
   "source": [
    "model = LinearRegression().fit(X, Y)"
   ]
  },
  {
   "cell_type": "code",
   "execution_count": 10,
   "id": "49d6249b",
   "metadata": {},
   "outputs": [
    {
     "data": {
      "text/html": [
       "<div>\n",
       "<style scoped>\n",
       "    .dataframe tbody tr th:only-of-type {\n",
       "        vertical-align: middle;\n",
       "    }\n",
       "\n",
       "    .dataframe tbody tr th {\n",
       "        vertical-align: top;\n",
       "    }\n",
       "\n",
       "    .dataframe thead th {\n",
       "        text-align: right;\n",
       "    }\n",
       "</style>\n",
       "<table border=\"1\" class=\"dataframe\">\n",
       "  <thead>\n",
       "    <tr style=\"text-align: right;\">\n",
       "      <th></th>\n",
       "      <th>Coefficient</th>\n",
       "    </tr>\n",
       "  </thead>\n",
       "  <tbody>\n",
       "    <tr>\n",
       "      <th>label</th>\n",
       "      <td>0.001794</td>\n",
       "    </tr>\n",
       "    <tr>\n",
       "      <th>confidence</th>\n",
       "      <td>0.009509</td>\n",
       "    </tr>\n",
       "  </tbody>\n",
       "</table>\n",
       "</div>"
      ],
      "text/plain": [
       "            Coefficient\n",
       "label          0.001794\n",
       "confidence     0.009509"
      ]
     },
     "execution_count": 10,
     "metadata": {},
     "output_type": "execute_result"
    }
   ],
   "source": [
    "coeff_parameter = pd.DataFrame(model.coef_,X.columns,columns=['Coefficient'])\n",
    "coeff_parameter"
   ]
  }
 ],
 "metadata": {
  "kernelspec": {
   "display_name": "venv",
   "language": "python",
   "name": "venv"
  },
  "language_info": {
   "codemirror_mode": {
    "name": "ipython",
    "version": 3
   },
   "file_extension": ".py",
   "mimetype": "text/x-python",
   "name": "python",
   "nbconvert_exporter": "python",
   "pygments_lexer": "ipython3",
   "version": "3.8.10"
  }
 },
 "nbformat": 4,
 "nbformat_minor": 5
}
